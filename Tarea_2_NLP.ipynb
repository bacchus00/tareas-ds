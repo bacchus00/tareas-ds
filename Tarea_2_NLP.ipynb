{
  "nbformat": 4,
  "nbformat_minor": 0,
  "metadata": {
    "colab": {
      "provenance": [],
      "collapsed_sections": [
        "5tDZnmns_1dW"
      ],
      "include_colab_link": true
    },
    "kernelspec": {
      "name": "python3",
      "display_name": "Python 3"
    }
  },
  "cells": [
    {
      "cell_type": "markdown",
      "metadata": {
        "id": "view-in-github",
        "colab_type": "text"
      },
      "source": [
        "<a href=\"https://colab.research.google.com/github/bacchus00/tareas-ds/blob/main/Tarea_2_NLP.ipynb\" target=\"_parent\"><img src=\"https://colab.research.google.com/assets/colab-badge.svg\" alt=\"Open In Colab\"/></a>"
      ]
    },
    {
      "cell_type": "markdown",
      "metadata": {
        "id": "2obO44rRIDIm"
      },
      "source": [
        "# **Tarea 2 - CC6205 Natural Language Processing 📚**\n",
        "\n",
        "**Integrantes:** Franc Zautzik, Melanie Marquez\n",
        "\n",
        "**Fecha límite de entrega 📆:** Martes 12 de abril.\n",
        "\n",
        "**Tiempo estimado de dedicación:** 5 hrs"
      ]
    },
    {
      "cell_type": "markdown",
      "metadata": {
        "id": "Zpupcv6QW2fd"
      },
      "source": [
        "Bienvenid@s a la segunda tarea del curso de Natural Language Processing (NLP). En esta tarea estaremos modelando probabilísticamente el lenguaje mediante **Languaje Modeling** y clasificando textos mediante el método **Naïve Bayes**. Específicamente, la tarea consta de una parte teórica que busca evaluar conceptos vistos en clases sobre los **Language Models** y una parte práctica donde **programarán a mano** el método **Naïve Bayes**. \n",
        "\n",
        "**Instrucciones:**\n",
        "- La tarea se realiza en grupos de **máximo** 2 personas. Puede ser invidivual pero no es recomendable.\n",
        "- La entrega es a través de u-cursos a más tardar el día estipulado arriba. No se aceptan atrasos.\n",
        "- El formato de entrega es este mismo Jupyter Notebook o el archivo .ipynb si lo ejecuto de forma local.\n",
        "- Al momento de la revisión tu código será ejecutado. Por favor verifica que tu entrega no tenga errores de compilación. \n",
        "- Está **PROHIBIDO** usar cualquier librería que implemente los algoritmos pedidos (Spacy, scikit, etc). Sólo se podrán utilizar las librerías importadas al inicio de la sección de práctica.\n",
        "- En el horario de auxiliar pueden realizar consultas acerca de la tarea a través del canal de Discord del curso.\n",
        "\n",
        "Si aún no han visto las clases, se recomienda visitar los links de las referencias.\n",
        "\n",
        "**Referencias:**\n",
        "\n",
        "Slides:\n",
        "    \n",
        "- [Language Models](http://www.cs.columbia.edu/~mcollins/cs4705-spring2019/slides/lmslides.pdf) (slides by Michael Collins)\n",
        "- [Text Classification and Naive Bayes](https://web.stanford.edu/~jurafsky/slp3/slides/7_NB.pdf) (slides by Dan Jurafsky)\n",
        "\n",
        "Videos: \n",
        "\n",
        "- [CC6205 - Procesamiento de Lenguaje Natural: Language Models parte 1](https://www.youtube.com/watch?v=9E2jJ6kcb4Y&list=PLppKo85eGXiXIh54H_qz48yHPHeNVJqBi&index=4)\n",
        "- [CC6205 - Procesamiento de Lenguaje Natural: Language Models parte 2](https://www.youtube.com/watch?v=ZWqbEQXLra0&list=PLppKo85eGXiXIh54H_qz48yHPHeNVJqBi&index=5)\n",
        "- [CC6205 - Procesamiento de Lenguaje Natural: Language Models parte 3](https://www.youtube.com/watch?v=tsumFqwFlaA&list=PLppKo85eGXiXIh54H_qz48yHPHeNVJqBi&index=6)\n",
        "- [CC6205 - Procesamiento de Lenguaje Natural: Language Models parte 4](https://www.youtube.com/watch?v=s3TWdv4sqkg&list=PLppKo85eGXiXIh54H_qz48yHPHeNVJqBi&index=7)\n",
        "- [CC6205 - Procesamiento de Lenguaje Natural: Naive Bayes Parte 1](https://www.youtube.com/watch?v=kG9BK9Oy1hU)\n",
        "- [CC6205 - Procesamiento de Lenguaje Natural: Naive Bayes Parte 2](https://www.youtube.com/watch?v=Iqte5kKHvzE)\n",
        "- [CC6205 - Procesamiento de Lenguaje Natural: Naive Bayes Parte 3](https://www.youtube.com/watch?v=TSJg0_X3Abk)\n",
        "\n",
        "` ` "
      ]
    },
    {
      "cell_type": "markdown",
      "metadata": {
        "id": "JstKx3TiKcIp"
      },
      "source": [
        "---------------------------\n",
        "## Parte 1. Language Modeling (3 pts)\n",
        "\n",
        "En esta parte responderán preguntas **teóricas** sobre los Lenguage Models. Para comprender como funcionan muchas de las técnicas que veremos posteriormente durante el curso será muy útil que dominen estos modelos y sus fundamentos.\n",
        "\n",
        "Recuerden que los **Language Models** básicamente nos permiten, dado un corpus, estimar un modelo probabilista al que le podemos pasar una oración y determinar que tan probable es que esa oración haya sido generada. Para esto, tenemos que un modelo de $n$-gramas puede ser definido por una *cadena de Márkov* de orden $n-1$.\n",
        "\n",
        "En clases vimos los modelos basados en unigramas, bigramas y trigramas. En esta pregunta trabajaremos con modelos de lenguaje basados en 4-gramas (*cadena de Márkov* de tercer orden).\n",
        "\n",
        "**Nota:** Las preguntas deben ser resueltas con desarrollo, pero sin código. Por favor usen $\\LaTeX$ para las fórmulas."
      ]
    },
    {
      "cell_type": "markdown",
      "metadata": {
        "id": "2hwW-07MrRpt"
      },
      "source": [
        "\n",
        "### 1.1. (1 pt)\n",
        "\n",
        "Asuma que tenemos calculados los parámetros $q(w_i | w_{i-3}, w_{i-2}, w_{i-1})$ para todas las posibles secuencias de tamaño 4 que aparecen en un corpus $\\mathcal{C}$. Dado esto, muestre cómo el modelo le asignaría una probabilidad a la frase `una persona corriendo rápido`"
      ]
    },
    {
      "cell_type": "markdown",
      "metadata": {
        "id": "YzlQDAVqWNdX"
      },
      "source": [
        "` ` \n",
        "\n",
        "**Respuesta:** \n",
        "\n",
        "\\begin{equation}\n",
        "p(\\text{una persona corriendo rapido STOP}) = q(\\text{una | *, *, *}) * q(\\text{persona | *, *, una}) * q(\\text{corriendo | *, una, persona}) * q(\\text{rapido | una, persona, corriendo}) * q(\\text{STOP | persona, corriendo, rapido})\n",
        "\\end{equation}\n",
        "\n",
        "` `"
      ]
    },
    {
      "cell_type": "markdown",
      "source": [
        "Candidata a pregunta: Explique porque podría ser importante conocer las probabilidades en un Language Models y alguna aplicación en tareas de NLP."
      ],
      "metadata": {
        "id": "pAxsHPGxbBMb"
      }
    },
    {
      "cell_type": "markdown",
      "source": [],
      "metadata": {
        "id": "Dv_FyGKbbpo5"
      }
    },
    {
      "cell_type": "markdown",
      "metadata": {
        "id": "lAej_jqtVwm1"
      },
      "source": [
        "### 1.2 Estimando las probabilidades (1 pt)"
      ]
    },
    {
      "cell_type": "markdown",
      "metadata": {
        "id": "gXSFlCIex8kq"
      },
      "source": [
        "#### 1.2.1. Modelo simple (0.5 puntos)\n",
        "\n",
        "Si hubieses tenido que estimar las probabilidades condicionales (parámetros del modelo) $q(w_i | w_{i-3}, w_{i-2}, w_{i-1})$ a partir de $\\mathcal{C}$, ¿cómo la definirías siguiendo el principio de máxima verosimilitud?"
      ]
    },
    {
      "cell_type": "markdown",
      "metadata": {
        "id": "RjNisxPzWsMG"
      },
      "source": [
        "` ` \n",
        "\n",
        "**Respuesta:** \n",
        "\n",
        "\\begin{equation}\n",
        "\\frac{Count(w_{i-3}, w_{i-2}, w_{i-1}, w_{i})}{Count(w_{i-3}, w_{i-2}, w_{i-1})}\n",
        "\\end{equation}\n",
        "\n",
        "donde Count es la funcion que da la cantidad de apariciones de la secuencia que tiene como argumento en el corpus\n",
        "\n",
        "` `"
      ]
    },
    {
      "cell_type": "markdown",
      "metadata": {
        "id": "bwNkPIXure0C"
      },
      "source": [
        "#### 1.2.2. Modelo interpolado (0.5 puntos)\n",
        "Muestre cómo se calcularía $q(w_{i} | w_{i-3}, w_{i-2}, w_{i-1})$ usando un modelo que interpola modelos de lenguajes basados en 4-grams, trigramas, bigramas y unigramas. ¿Te fue necesario definir nuevos parámetros? En caso afirmativo, ¿qué los diferencia de los parámetros del modelo simple y qué propiedades deben cumplir?"
      ]
    },
    {
      "cell_type": "markdown",
      "metadata": {
        "id": "zeLZAd0Tr9ne"
      },
      "source": [
        "` ` \n",
        "\n",
        "**Respuesta:** \n",
        "\n",
        "\\begin{equation}\n",
        "\\lambda_{1}q_{ML}(w_{i}) + \\lambda_{2}q_{ML}(w_{i} | w_{i-1}) +  \\lambda_{3}q_{ML}(w_{i} |w_{i-2}, w_{i-1}) + \\lambda_{4}q_{ML}(w_{i} | w_{i-3}, w_{i-2}, w_{i-1})\n",
        "\\end{equation}\n",
        "\n",
        "donde $q_{ML}$ es la probabilidad estimada con el principio de maxima verosimilitud. Es necesario incluir los parametros lambda, que deben cumplir la propiedad $\\lambda_{1} + \\lambda_{2} +  \\lambda_{3} + \\lambda_{4} = 1$ y que $\\lambda_{i} \\geq 0$ para todo $i$. Se diferencian de los parametros del modelo puesto son hiperparametros, esto significa que no se pueden calcular a partir de los datos de entrenamiento sino que los tiene que configurar uno.\n",
        "\n",
        "` `\n"
      ]
    },
    {
      "cell_type": "markdown",
      "metadata": {
        "id": "sHqcRJ7Vr_8x"
      },
      "source": [
        "### 1.3. Ventajas modelo interpolado (0.5 puntos)\n",
        "¿Qué ventajas tiene el modelo interpolado sobre el modelo de 4-gramas simple?"
      ]
    },
    {
      "cell_type": "markdown",
      "metadata": {
        "id": "6F5R3Ji7sHjt"
      },
      "source": [
        "` ` \n",
        "\n",
        "**Respuesta:** \n",
        "\n",
        "Que el modelo interpolado permite que no se anulen o indefinan las probabilidades estimadas cuando se encuentran secuencias nuevas, es decir es mas robusto al sparsnes del lenguaje en comparacion con un modelo simple.\n",
        "\n",
        "` ` "
      ]
    },
    {
      "cell_type": "markdown",
      "source": [
        "### 1.4 Evaluación de Language Model (0.5 puntos)\n",
        "Suponga que usted está modelando un language model sobre un corpus con un vocabulario $\\nu$, en donde N es igual a $\\nu$ + 1. Según lo visto en clases, ¿Cómo evaluaría su modelo? Y ¿Cómo podría determinar que su modelo tiene un mal rendimiento?, Justifique su respuesta. "
      ],
      "metadata": {
        "id": "vC2BGjlXxULB"
      }
    },
    {
      "cell_type": "markdown",
      "source": [
        "` ` \n",
        "\n",
        "**Respuesta:** \n",
        "\n",
        "Una forma de medir cuan bueno es un language model es utilizar la medida llamada perplexity y comparar su valor con un modelo con distribucion de probabilidades uniforme que daria una perplexity $N$. Mientras mas pequeño sea el perplexity de nuestro modelo en compararacion con el del modelo uniforme mejor es.\n",
        "\n",
        "` ` "
      ],
      "metadata": {
        "id": "ZnBqiOGhxYfG"
      }
    },
    {
      "cell_type": "markdown",
      "metadata": {
        "id": "rdmB-07ZKfaa"
      },
      "source": [
        "-----------------------\n",
        "## Parte 2. Naïve Bayes (3 pts)\n",
        "En esta parte programaremos nuestro primer clasificador de documentos. Para esto implementaremos el método **Naïve Bayes Multinomial** usando **Laplace Smothing**.\n",
        "\n",
        "Por favor, documenten su código. Escriban que hacen las funciones, que reciben, que entregan, etc. Si en algún lugar de su código hacen algo que creen que debe ser explicado, lox comentarios son bienvenidos.\n",
        "\n"
      ]
    },
    {
      "cell_type": "markdown",
      "metadata": {
        "id": "PpjjKnJUvRiA"
      },
      "source": [
        "### 2.1. Clase para clasificador (0.5 pt)\n",
        "\n",
        "Programa una clase `MyMultinomialNB` que en su inicializador reciba el parametro de generalización `alpha`.\n",
        "\n",
        "```python\n",
        "class MyMultinomialNB(BaseEstimator, ClassifierMixin):\n",
        "  def __init__(self, alpha):\n",
        "    ...\n",
        "```\n",
        "\n",
        "Para más informacion sobre la construcción de esta clase puedes revisar [aquí](https://sklearn-template.readthedocs.io/en/latest/user_guide.html#classifier) \n",
        "\n",
        "Una llamada de ejemplo para crear un objeto de tu clase sería:\n",
        "```python\n",
        "my_clf = MyMultinomialNB(alpha=1)\n",
        "``` \n",
        "lo que debiera crear un clasificador con parámetro `alpha` igual a 1."
      ]
    },
    {
      "cell_type": "markdown",
      "metadata": {
        "id": "ROG50eH0xfxO"
      },
      "source": [
        "### 2.2. Entrenamiento del clasificador (1 pt)\n",
        "\n",
        "Programa el entrenamiento de tu clasificador en el método `fit` de la clase `MyMultinomialNB`. La función debiera recibir el parámetro X que es un `DataFrame` de `pandas` con las columnas `words` y `class_`, donde `words` es una tupla con las palabras asociadas al cada documento y `class_` es el identificador de la clase a la que pertenece cada documento.\n",
        "\n",
        "Para computar el entrenamiento de nuestro clasificador debemos: \n",
        "- extraer el vocabulario,\n",
        "- determinar las probabilidades $p(c_j)$ para cada una de las clases posibles, \n",
        "- determinar las probabilidades $p(w_i|c_j)$ para cada una de las palabras y cada una de las clases usando **Laplace Smothing**.\n",
        "\n",
        "El resultado del metodo `fit` será la misma instancia de nuestro clasificador `self`.\n",
        "\n",
        "```python\n",
        "class MyMultinomialNB(BaseEstimator, ClassifierMixin):\n",
        "  def __init__(self, ...):\n",
        "    ...\n",
        "\n",
        "  def fit(self, X):\n",
        "    ...\n",
        "    return self\n",
        "```\n",
        "\n",
        "**Underflow prevention:** En vez de hacer muchas multiplicacions de `float`s, reemplácenlas por sumas de logaritmos para prevenir errores de precisión. Revisen la diapo 69 de las slides. "
      ]
    },
    {
      "cell_type": "markdown",
      "metadata": {
        "id": "FNouTCmR2FgY"
      },
      "source": [
        "### 2.3. Predicción (1 pt)\n",
        "\n",
        "Programa la predicción de tu clasificador en el método `predict` de la clase `MyMultinomialNB`. Al igual que la función `fit`, `predict` debe recibir un `DataFrame` X con valores `None` en la columna `class_` y devolver una lista con las clases que maximizan la probabilidad de Bayes para cada uno de los elmentos de X (filas)."
      ]
    },
    {
      "cell_type": "markdown",
      "metadata": {
        "id": "8wyhFWeLgYDI"
      },
      "source": [
        "### Implementación 2.1, 2.2 y 2.3 (2.5 pt)"
      ]
    },
    {
      "cell_type": "code",
      "metadata": {
        "id": "DYFEgTyw2ELL"
      },
      "source": [
        "# Acá implementarán las preguntas 2.1, 2.2 y 2.3,\n",
        "# tu código debiera comenzar así\n",
        "\n",
        "# importamos algunos paquetes necesarios, puede que necesites otros\n",
        "import numpy as np\n",
        "from sklearn.base import BaseEstimator, ClassifierMixin\n",
        "from sklearn.utils.validation import check_is_fitted\n",
        "\n",
        "class MyMultinomialNB(BaseEstimator, ClassifierMixin):\n",
        "  def __init__(self, alpha=1.0):\n",
        "    self.alpha = alpha;\n",
        "\n",
        "  def fit(self, X):\n",
        "    # acá tu código para el entrenamiento del modelo\n",
        "\n",
        "    # Parte 1: Extraer vocabulario\n",
        "    self.vocab = []\n",
        "    for d in X[\"words\"]:\n",
        "      for x in d:\n",
        "        if x not in self.vocab:\n",
        "          self.vocab.append(x)\n",
        "\n",
        "    \n",
        "    #Parte 2: Extraer clases\n",
        "    self.classes = {}\n",
        "    for d in X[\"class_\"]:\n",
        "      if d not in self.classes.keys():\n",
        "        self.classes[d] = 1\n",
        "      else:\n",
        "        self.classes[d] +=1\n",
        "    \n",
        "    #Parte 3: Calcular P(c_j)\n",
        "    cant_docs = len(X)\n",
        "    self.pcj = {}\n",
        "    for k in self.classes.keys():\n",
        "      self.pcj[k] = self.classes[k]/cant_docs\n",
        "\n",
        "    #Parte 4: Calcular P(w_i|c_j)\n",
        "    # ( cant_apariciones_de_wi_en_clase_cj + alpha ) / ( cant_tokens_en_cj + alpha * N )\n",
        "    \n",
        "    # 1 -> cant_apariciones_de_wi_en_clase_cj {\"c\":{\"Japan\": 3},\"j\":{\"Japan\": 2}}\n",
        "    dic = {}\n",
        "    for c in self.classes.keys():\n",
        "      dic[c] = {}\n",
        "      for i in range(cant_docs):\n",
        "        clase = X.iloc[i][\"class_\"]\n",
        "        for palabra in X.iloc[i][\"words\"]:\n",
        "          if palabra not in dic[c]:\n",
        "            dic[c][palabra] = 0\n",
        "          if c == clase:\n",
        "            dic[c][palabra]+=1\n",
        "\n",
        "    # 2 -> cant_tokens_en_cj {\"c\": 10, \"j\": 11}\n",
        "    sum = {}\n",
        "    for k in dic.keys():\n",
        "      if k not in sum:\n",
        "        sum[k] = 0\n",
        "      for p in dic[k]:\n",
        "        sum[k] += dic[k][p]\n",
        "\n",
        "    # 3 -> Calcular todo aaaah {\"c\": {\"japon\": 8/3...}}\n",
        "    N = len(self.vocab)\n",
        "    self.pwicj = {}\n",
        "    for clase in self.classes.keys():\n",
        "      self.pwicj[clase] = {}\n",
        "      for palabra in self.vocab:\n",
        "        prob = ( dic[clase][palabra] + self.alpha ) / ( sum[clase] + self.alpha*N )\n",
        "        self.pwicj[clase][palabra] = prob\n",
        "\n",
        "    return self\n",
        "\n",
        "  def predict(self, X):\n",
        "    # Chequea que fit ha sido ejecutado anteriormente\n",
        "    check_is_fitted(self, [\"pcj\",\"pwicj\"])\n",
        "\n",
        "    # acá tu código para computar la predicción\n",
        "    for frase in X[\"words\"]:\n",
        "      f = \"\"\n",
        "      totales = {}\n",
        "      for clase in self.classes.keys():\n",
        "        suma = 0\n",
        "        for palabra in frase:\n",
        "          suma = suma + np.log(self.pwicj[clase][palabra])\n",
        "        totales[clase] = suma + np.log(self.pcj[clase])\n",
        "      max_v = totales[list(totales.keys())[0]]\n",
        "      max_s = \"\"\n",
        "      for value in totales.keys():\n",
        "        if totales[value] >= max_v:\n",
        "          max_v = totales[value]\n",
        "          max_s = value\n",
        "\n",
        "      f += str(max_s)\n",
        "      f += \" <- \"\n",
        "      for palabra in frase:\n",
        "        f += str(palabra) \n",
        "        f += \" \"\n",
        "      print(f)\n",
        "    prediction = []\n",
        "    \n",
        "    return prediction\n",
        "\n"
      ],
      "execution_count": null,
      "outputs": []
    },
    {
      "cell_type": "markdown",
      "metadata": {
        "id": "_KOMJ-CS8PRP"
      },
      "source": [
        "### 2.4. Probando el clasificador (0.5 pt)"
      ]
    },
    {
      "cell_type": "markdown",
      "metadata": {
        "id": "hucdz-R7xerG"
      },
      "source": [
        "A continuación probarán el funcionamiento de su clasificador. Para esto, les presentamos un conjunto de documentos de entrenamiento `train_set` divididos en 2 categorias distintas. Ustedes deberán primero entrenar su clasificador usando el método `fit` de su clase y luego, clasificar los documentos del conjunto de prueva `test_set` usando el método `predict`.\n",
        "\n",
        "**NOTA:** Como pueden ver, los objetos `namedtuple`s tienen dos atributos: `words` donde están las palabras del documento y `class_` donde se guarda la clase de ese documento. Estos objetos son inmutables, lo que quiere decir que si quieren modificar un documento y cambiarle la clase, tienen que crear otro documento. Otra cosa es que son tuplas como cualquier otra, es decir se pueden acceder usando indices como `doc[0]` o `doc[1]`."
      ]
    },
    {
      "cell_type": "code",
      "source": [
        "import pandas as pd\n",
        "\n",
        "from collections import namedtuple"
      ],
      "metadata": {
        "id": "JjTnFLDGyCEL"
      },
      "execution_count": null,
      "outputs": []
    },
    {
      "cell_type": "markdown",
      "source": [
        "#### 2.4.1 Primer Caso: Clasificación de ejemplo visto en clases (0.20 pt)"
      ],
      "metadata": {
        "id": "JfS5wXfwxx6t"
      }
    },
    {
      "cell_type": "code",
      "source": [
        "import nltk\n",
        "nltk.download('punkt')\n",
        "from nltk.tokenize import word_tokenize\n",
        "\n",
        "document = namedtuple(\n",
        "    \"document\", (\"words\", \"class_\")  # avoid python's keyword collision\n",
        ")\n",
        "\n",
        "train_set = [['Chinese Beijing\tChinese', 'c'],\n",
        "             ['Chinese\tChinese\tShanghai','c'],\n",
        "             ['Chinese\tMacao','c'],\n",
        "             ['Tokyo\tJapan\tChinese','j']]\n",
        "\n",
        "train_set = [document(words=tuple(word_tokenize(d[0])), class_=d[1]) for d in train_set]\n",
        "X_train = pd.DataFrame(data=train_set)\n",
        "\n",
        "test_set = [['Chinese\tChinese\tChinese\tTokyo Japan', None]]\n",
        "test_set = [document(words=tuple(word_tokenize(d[0])), class_=d[1]) for d in test_set]\n",
        "X_test = pd.DataFrame(data=test_set)\n",
        "\n",
        "X_train = pd.DataFrame(data=train_set)\n",
        "print(\"Documentos de entrenamiento\")\n",
        "print(X_train)\n",
        "\n",
        "X_test = pd.DataFrame(data=test_set)\n",
        "print(\"\\nDocumentos de prueba:\")\n",
        "print(X_test)"
      ],
      "metadata": {
        "id": "5yXBv2Kqxyyf",
        "colab": {
          "base_uri": "https://localhost:8080/"
        },
        "outputId": "2199a2df-ff8f-4f02-8c08-6616ece06659"
      },
      "execution_count": null,
      "outputs": [
        {
          "output_type": "stream",
          "name": "stdout",
          "text": [
            "[nltk_data] Downloading package punkt to /root/nltk_data...\n",
            "[nltk_data]   Package punkt is already up-to-date!\n",
            "Documentos de entrenamiento\n",
            "                          words class_\n",
            "0   (Chinese, Beijing, Chinese)      c\n",
            "1  (Chinese, Chinese, Shanghai)      c\n",
            "2              (Chinese, Macao)      c\n",
            "3       (Tokyo, Japan, Chinese)      j\n",
            "\n",
            "Documentos de prueba:\n",
            "                                       words class_\n",
            "0  (Chinese, Chinese, Chinese, Tokyo, Japan)   None\n"
          ]
        }
      ]
    },
    {
      "cell_type": "code",
      "source": [
        "# Acá probarán su clasificador\n",
        "\n",
        "# inicializamos el clasificador\n",
        "my_clf = MyMultinomialNB(alpha=1)\n",
        "\n",
        "# entrenamos el clasificador para los datos de entrenamiento X_train\n",
        "my_clf.fit(X_train)\n",
        "\n",
        "# acá puedes ver el vocabulario extraído por tu clasificador, \n",
        "# intenta tenerlo guardado en my_clf.vocab\n",
        "print('vocab: ', my_clf.vocab)\n",
        "\n",
        "# si implementaron el método predict_proba en el clasificador (no era obligatorio), \n",
        "# acá lo pueden probar\n",
        "# print('\\nTest probs:')\n",
        "# print('\\n'.join([str(l) for l in my_clf.predict_proba(X_test)]))\n",
        "\n",
        "# obtengamos las predicciones \n",
        "print('\\nTest predictions:')\n",
        "print('\\n'.join(['{} <- {}'.format(c, ' '.join(s)) for c, s in zip(my_clf.predict(X_test), X_test['words'])]))"
      ],
      "metadata": {
        "id": "UAx0t3zQx2PJ",
        "colab": {
          "base_uri": "https://localhost:8080/"
        },
        "outputId": "2f610a85-f895-4ac1-fd54-71d306ad1353"
      },
      "execution_count": null,
      "outputs": [
        {
          "output_type": "stream",
          "name": "stdout",
          "text": [
            "vocab:  ['Chinese', 'Beijing', 'Shanghai', 'Macao', 'Tokyo', 'Japan']\n",
            "\n",
            "Test predictions:\n",
            "c <- Chinese Chinese Chinese Tokyo Japan \n",
            "\n"
          ]
        }
      ]
    },
    {
      "cell_type": "markdown",
      "source": [
        "**Respuesta esperada:**\n",
        "\n",
        "**Nota:** No es necesario que obtenga exactamente la misma probabilidad, lo importante es que su clasificador genere la predicción expuesta.\n",
        "\n",
        "```python\n",
        "vocab:  ['Beijing', 'Chinese', 'Macao', 'Tokyo', 'Japan', 'Shanghai']\n",
        "\n",
        "Test probs:\n",
        "[0.68975861 0.31024139]\n",
        "\n",
        "Test predictions:\n",
        "c <- Chinese Chinese Chinese Tokyo Japan\n",
        "```"
      ],
      "metadata": {
        "id": "dMyCgXxvx29L"
      }
    },
    {
      "cell_type": "markdown",
      "source": [
        "#### 2.4.2 Segundo Caso (0.30 pt)"
      ],
      "metadata": {
        "id": "mpG_t1wTx99m"
      }
    },
    {
      "cell_type": "code",
      "metadata": {
        "id": "HLi8PxdV2VQX",
        "colab": {
          "base_uri": "https://localhost:8080/"
        },
        "outputId": "3b3fe46c-c6bf-4add-e836-2c9abb742da6"
      },
      "source": [
        "document = namedtuple(\n",
        "    \"document\", (\"words\", \"class_\")  # avoid python's keyword collision\n",
        ")\n",
        "\n",
        "train_set = (\n",
        "    document(words=('w03', 'w01', 'w02', 'w06', 'w02', 'w08', 'w07'), class_=0),\n",
        "    document(words=('w05', 'w04', 'w00', 'w06', 'w09', 'w07', 'w06', 'w09', 'w05'), class_=1),\n",
        "    document(words=('w07', 'w06', 'w00', 'w08', 'w01', 'w08', 'w08', 'w09', 'w02'), class_=0),\n",
        "    document(words=('w08', 'w09', 'w02', 'w06', 'w05', 'w08', 'w07'), class_=1),\n",
        "    document(words=('w09', 'w08', 'w05', 'w08', 'w05', 'w00', 'w08'), class_=1),\n",
        "    document(words=('w05', 'w05', 'w06', 'w01', 'w06', 'w08', 'w02'), class_=1),\n",
        "    document(words=('w04', 'w03', 'w07', 'w05', 'w04', 'w00', 'w02'), class_=0),\n",
        "    document(words=('w01', 'w00', 'w01', 'w04', 'w09', 'w02', 'w04', 'w07'), class_=1)\n",
        ")\n",
        "X_train = pd.DataFrame(data=train_set)\n",
        "print(\"Documentos de entrenamiento\")\n",
        "print(X_train)\n",
        "\n",
        "test_set = (document(words=('w02', 'w09', 'w06', 'w01', 'w05', 'w04', 'w03', 'w03'), class_=None),\n",
        "            document(words=('w03', 'w03', 'w04', 'w05', 'w01', 'w06', 'w09', 'w02'), class_=None))\n",
        "X_test = pd.DataFrame(data=test_set)\n",
        "print(\"\\nDocumentos de prueba:\")\n",
        "print(X_test)"
      ],
      "execution_count": null,
      "outputs": [
        {
          "output_type": "stream",
          "name": "stdout",
          "text": [
            "Documentos de entrenamiento\n",
            "                                           words  class_\n",
            "0            (w03, w01, w02, w06, w02, w08, w07)       0\n",
            "1  (w05, w04, w00, w06, w09, w07, w06, w09, w05)       1\n",
            "2  (w07, w06, w00, w08, w01, w08, w08, w09, w02)       0\n",
            "3            (w08, w09, w02, w06, w05, w08, w07)       1\n",
            "4            (w09, w08, w05, w08, w05, w00, w08)       1\n",
            "5            (w05, w05, w06, w01, w06, w08, w02)       1\n",
            "6            (w04, w03, w07, w05, w04, w00, w02)       0\n",
            "7       (w01, w00, w01, w04, w09, w02, w04, w07)       1\n",
            "\n",
            "Documentos de prueba:\n",
            "                                      words class_\n",
            "0  (w02, w09, w06, w01, w05, w04, w03, w03)   None\n",
            "1  (w03, w03, w04, w05, w01, w06, w09, w02)   None\n"
          ]
        }
      ]
    },
    {
      "cell_type": "code",
      "metadata": {
        "id": "OXHwmOWB-4Aa",
        "colab": {
          "base_uri": "https://localhost:8080/"
        },
        "outputId": "c6b808a7-3506-4d29-9ed9-0882700c9ee9"
      },
      "source": [
        "# Acá probarán su clasificador\n",
        "\n",
        "# inicializamos el clasificador\n",
        "my_clf = MyMultinomialNB(alpha=1)\n",
        "\n",
        "# entrenamos el clasificador para los datos de entrenamiento X_train\n",
        "my_clf.fit(X_train)\n",
        "\n",
        "# acá puedes ver el vocabulario extraído por tu clasificador, \n",
        "# intenta tenerlo guardado en my_clf.vocab\n",
        "print('vocab: ', my_clf.vocab)\n",
        "\n",
        "# si implementaron el método predict_proba en el clasificador (no era obligatorio), \n",
        "# acá lo pueden probar\n",
        "# print('\\nTest probs:')\n",
        "# print('\\n'.join([str(l) for l in my_clf.predict_proba(X_test)]))\n",
        "\n",
        "# obtengamos las predicciones \n",
        "print('\\nTest predictions:')\n",
        "print('\\n'.join(['{} <- {}'.format(c, ' '.join(s)) for c, s in zip(my_clf.predict(X_test), X_test['words'])]))"
      ],
      "execution_count": null,
      "outputs": [
        {
          "output_type": "stream",
          "name": "stdout",
          "text": [
            "vocab:  ['w03', 'w01', 'w02', 'w06', 'w08', 'w07', 'w05', 'w04', 'w00', 'w09']\n",
            "\n",
            "Test predictions:\n",
            "0 <- w02 w09 w06 w01 w05 w04 w03 w03 \n",
            "0 <- w03 w03 w04 w05 w01 w06 w09 w02 \n",
            "\n"
          ]
        }
      ]
    },
    {
      "cell_type": "markdown",
      "metadata": {
        "id": "5tDZnmns_1dW"
      },
      "source": [
        "#### 2.4.3 (OPCIONAL) Oraciones reales\n",
        "\n",
        "Aquí intentaremos entrenar un clasificador para determinar cuando una oracion en inglés es interrogativa, afirmativa o negativa."
      ]
    },
    {
      "cell_type": "code",
      "metadata": {
        "id": "YCWi3oytd2nf",
        "colab": {
          "base_uri": "https://localhost:8080/"
        },
        "outputId": "ff582f23-6756-4d7d-fe64-f1add154b4c1"
      },
      "source": [
        "import nltk\n",
        "nltk.download('punkt')\n",
        "from nltk.tokenize import word_tokenize\n",
        "\n",
        "document = namedtuple(\n",
        "    \"document\", (\"words\", \"class_\")  # avoid python's keyword collision\n",
        ")\n",
        "\n",
        "train_set2 = [\n",
        "              ['Do you have plenty of time?', '?'],\n",
        "              ['Does she have enough money?','?'],\n",
        "              ['Did they have any useful advice?','?'],\n",
        "              ['What day is today?','?'],\n",
        "              [\"I don't have much time\",'-'],\n",
        "              [\"She doesn't have any money\",'-'],\n",
        "              [\"They didn't have any advice to offer\",'-'],\n",
        "              ['Have you plenty of time?','?'],\n",
        "              ['Has she enough money?','?'],\n",
        "              ['Had they any useful advice?','?'],\n",
        "              [\"I haven't much time\",'-'],\n",
        "              [\"She hasn't any money\",'-'],\n",
        "              [\"He hadn't any advice to offer\",'-'],\n",
        "              ['How are you?','?'],\n",
        "              ['How do you make questions in English?','?'],\n",
        "              ['How long have you lived here?','?'],\n",
        "              ['How often do you go to the cinema?','?'],\n",
        "              ['How much is this dress?','?'],\n",
        "              ['How old are you?','?'],\n",
        "              ['How many people came to the meeting?','?'],\n",
        "              ['I’m from France','+'],\n",
        "              ['I come from the UK','+'],\n",
        "              ['My phone number is 61709832145','+'],\n",
        "              ['I work as a tour guide for a local tour company','+'],\n",
        "              ['I’m not dating anyone','-'],\n",
        "              ['I live with my wife and children','+'],\n",
        "              ['I often do morning exercises at 6am','+'],\n",
        "              ['I run everyday','+'],\n",
        "              ['She walks very slowly','+'],\n",
        "              ['They eat a lot of meat daily','+'],\n",
        "              ['We were in France that day', '+'],\n",
        "              ['He speaks very fast', '+'],\n",
        "              ['They told us they came back early', '+'],\n",
        "              [\"I told her I'll be there\", '+']\n",
        "]\n",
        "train_set2 = [document(words=tuple(word_tokenize(d[0])), class_=d[1]) for d in train_set2]\n",
        "X_train2 = pd.DataFrame(data=train_set2)\n",
        "print(\"Documentos de entrenamiento:\")\n",
        "print(X_train2)\n",
        "\n",
        "test_set2 = [\n",
        "             ['Do you know who lives here?','?'],\n",
        "             ['What time is it?','?'],\n",
        "             ['Can you tell me where she comes from?','?'],\n",
        "             ['How are you?','?'],\n",
        "             ['I fill good today', '+'],\n",
        "             ['There is a lot of history here','+'],\n",
        "             ['I love programming','+'],\n",
        "             ['He told us not to make so much noise','+'],  # interesing case\n",
        "             ['We were asked not to park in front of the house','+'],  # interesing case\n",
        "             [\"I don't have much time\",'-'],\n",
        "             [\"She doesn't have any money\",'-'],\n",
        "             [\"They didn't have any advice to offer\",'-'],\n",
        "             ['I am not really sure','+']\n",
        "]\n",
        "test_set2 = [document(words=tuple(word_tokenize(d[0])), class_=d[1]) for d in test_set2]\n",
        "X_test2 = pd.DataFrame(data=test_set2)\n",
        "print(\"\\nDocumentos de prueba:\")\n",
        "print(X_test2)"
      ],
      "execution_count": null,
      "outputs": [
        {
          "output_type": "stream",
          "name": "stdout",
          "text": [
            "[nltk_data] Downloading package punkt to /root/nltk_data...\n",
            "[nltk_data]   Package punkt is already up-to-date!\n",
            "Documentos de entrenamiento:\n",
            "                                                words class_\n",
            "0                (Do, you, have, plenty, of, time, ?)      ?\n",
            "1                 (Does, she, have, enough, money, ?)      ?\n",
            "2           (Did, they, have, any, useful, advice, ?)      ?\n",
            "3                           (What, day, is, today, ?)      ?\n",
            "4                      (I, do, n't, have, much, time)      -\n",
            "5                  (She, does, n't, have, any, money)      -\n",
            "6      (They, did, n't, have, any, advice, to, offer)      -\n",
            "7                    (Have, you, plenty, of, time, ?)      ?\n",
            "8                        (Has, she, enough, money, ?)      ?\n",
            "9                 (Had, they, any, useful, advice, ?)      ?\n",
            "10                         (I, have, n't, much, time)      -\n",
            "11                        (She, has, n't, any, money)      -\n",
            "12             (He, had, n't, any, advice, to, offer)      -\n",
            "13                                 (How, are, you, ?)      ?\n",
            "14    (How, do, you, make, questions, in, English, ?)      ?\n",
            "15             (How, long, have, you, lived, here, ?)      ?\n",
            "16      (How, often, do, you, go, to, the, cinema, ?)      ?\n",
            "17                    (How, much, is, this, dress, ?)      ?\n",
            "18                            (How, old, are, you, ?)      ?\n",
            "19     (How, many, people, came, to, the, meeting, ?)      ?\n",
            "20                            (I, ’, m, from, France)      +\n",
            "21                           (I, come, from, the, UK)      +\n",
            "22               (My, phone, number, is, 61709832145)      +\n",
            "23  (I, work, as, a, tour, guide, for, a, local, t...      +\n",
            "24                     (I, ’, m, not, dating, anyone)      -\n",
            "25           (I, live, with, my, wife, and, children)      +\n",
            "26        (I, often, do, morning, exercises, at, 6am)      +\n",
            "27                                 (I, run, everyday)      +\n",
            "28                         (She, walks, very, slowly)      +\n",
            "29               (They, eat, a, lot, of, meat, daily)      +\n",
            "30                  (We, were, in, France, that, day)      +\n",
            "31                           (He, speaks, very, fast)      +\n",
            "32          (They, told, us, they, came, back, early)      +\n",
            "33                  (I, told, her, I, 'll, be, there)      +\n",
            "\n",
            "Documentos de prueba:\n",
            "                                                words class_\n",
            "0                (Do, you, know, who, lives, here, ?)      ?\n",
            "1                             (What, time, is, it, ?)      ?\n",
            "2    (Can, you, tell, me, where, she, comes, from, ?)      ?\n",
            "3                                  (How, are, you, ?)      ?\n",
            "4                              (I, fill, good, today)      +\n",
            "5              (There, is, a, lot, of, history, here)      +\n",
            "6                              (I, love, programming)      +\n",
            "7      (He, told, us, not, to, make, so, much, noise)      +\n",
            "8   (We, were, asked, not, to, park, in, front, of...      +\n",
            "9                      (I, do, n't, have, much, time)      -\n",
            "10                 (She, does, n't, have, any, money)      -\n",
            "11     (They, did, n't, have, any, advice, to, offer)      -\n",
            "12                         (I, am, not, really, sure)      +\n"
          ]
        }
      ]
    },
    {
      "cell_type": "code",
      "metadata": {
        "id": "6Wdp22w2ArUl"
      },
      "source": [
        "# Acá probarán su clasificador y computaremos algunas métricas de evaluacion\n",
        "\n",
        "from sklearn.metrics import classification_report\n",
        "\n",
        "# inicializamos el clasificador\n",
        "my_clf2 = ...\n",
        "\n",
        "# entrenamos el clasificador para los datos de entrenamiento X_train2\n",
        "my_clf2.fit(...)\n",
        "\n",
        "# acá puedes ver el vocabulario extraído por tu clasificador, \n",
        "# intenta tenerlo guardado en my_clf.vocab\n",
        "print('vocab: ', len(my_clf2.vocab), my_clf2.vocab)\n",
        "\n",
        "# si implementaron el método predict_proba en el clasificador (no era obligatorio), \n",
        "# acá lo pueden probar\n",
        "# print('\\nTest probs:')\n",
        "# print('\\n'.join([str(l) for l in my_clf.predict_proba(X_test2)]))\n",
        "\n",
        "# obtengamos las predicciones para X_test2\n",
        "print('\\nTest predictions:')\n",
        "my_y_preds = my_clf2.predict(X_test2)\n",
        "print('\\n'.join(['{} <- {}'.format(c, ' '.join(s)) for c, s in zip(my_y_preds, X_test2['words'])]))\n",
        "print(classification_report(y_true=X_test2['class_'], y_pred=my_y_preds, target_names=['?', '+', '-']))"
      ],
      "execution_count": null,
      "outputs": []
    },
    {
      "cell_type": "markdown",
      "source": [
        "**Respuesta aproximada:**\n",
        "\n",
        "**Nota:** No es necesario que obtenga exactamente los mismos resultados.\n",
        "\n",
        "```python\n",
        "              precision    recall  f1-score   support\n",
        "\n",
        "           ?       1.00      0.67      0.80         6\n",
        "           +       0.75      1.00      0.86         3\n",
        "           -       0.80      1.00      0.89         4\n",
        "\n",
        "    accuracy                           0.85        13\n",
        "   macro avg       0.85      0.89      0.85        13\n",
        "weighted avg       0.88      0.85      0.84        13\n",
        "```"
      ],
      "metadata": {
        "id": "WXbg6sNTdAlO"
      }
    }
  ]
}